{
 "cells": [
  {
   "cell_type": "markdown",
   "metadata": {},
   "source": [
    "# Makine Öğrenmesi Görevlerinin Otomatikleştirilmesi"
   ]
  },
  {
   "cell_type": "code",
   "execution_count": 3,
   "metadata": {},
   "outputs": [],
   "source": [
    "import numpy as np\n",
    "import pandas as pd\n",
    "from sklearn.model_selection import train_test_split, GridSearchCV\n",
    "from sklearn.metrics import mean_squared_error, r2_score\n",
    "import matplotlib.pyplot as plt\n",
    "from sklearn.preprocessing import scale\n",
    "from sklearn.preprocessing import StandardScaler\n",
    "from sklearn import model_selection\n",
    "from sklearn.linear_model import LinearRegression\n",
    "from sklearn.tree import DecisionTreeRegressor\n",
    "from sklearn.neighbors import KNeighborsRegressor\n",
    "from sklearn.neural_network import MLPRegressor\n",
    "from sklearn.ensemble import RandomForestRegressor\n",
    "from sklearn.ensemble import GradientBoostingRegressor\n",
    "from sklearn import neighbors\n",
    "from sklearn.svm import SVR\n",
    "from catboost import CatBoostRegressor\n",
    "from lightgbm import LGBMRegressor\n",
    "import xgboost\n",
    "from xgboost import XGBRegressor"
   ]
  },
  {
   "cell_type": "code",
   "execution_count": 4,
   "metadata": {},
   "outputs": [],
   "source": [
    "df = pd.read_csv(\"Hitters.csv\")\n",
    "df = df.dropna()\n",
    "dms = pd.get_dummies(df[['League','Division','NewLeague']])"
   ]
  },
  {
   "cell_type": "code",
   "execution_count": 5,
   "metadata": {},
   "outputs": [],
   "source": [
    "def compML(df, y, alg): \n",
    "    #train-test ayrımı\n",
    "    y = df[y]\n",
    "    X_ = df.drop(['Salary','League','Division','NewLeague'],axis=1).astype('float64')\n",
    "    X = pd.concat([X_,dms[['League_N','Division_W','NewLeague_N']]],axis=1)\n",
    "    X_train,X_test,y_train,y_test = train_test_split(X,y,test_size=0.25,random_state=42)\n",
    "    #modelleme   \n",
    "    model=alg().fit(X_train, y_train)\n",
    "    y_pred =model.predict(X_test)\n",
    "    RMSE = np.sqrt(mean_squared_error(y_test,y_pred))\n",
    "    model_ismi=alg.__name__\n",
    "    print(model_ismi,\"Modeli Test Hatası\",RMSE)"
   ]
  },
  {
   "cell_type": "code",
   "execution_count": 6,
   "metadata": {},
   "outputs": [
    {
     "name": "stdout",
     "output_type": "stream",
     "text": [
      "SVR Modeli Test Hatası 460.0032657244849\n"
     ]
    }
   ],
   "source": [
    "compML(df,\"Salary\",SVR)"
   ]
  },
  {
   "cell_type": "code",
   "execution_count": 26,
   "metadata": {},
   "outputs": [],
   "source": [
    "models= [LGBMRegressor,\n",
    "        XGBRegressor,\n",
    "        GradientBoostingRegressor,\n",
    "        RandomForestRegressor,\n",
    "        DecisionTreeRegressor,\n",
    "        MLPRegressor,\n",
    "        KNeighborsRegressor,\n",
    "        SVR]"
   ]
  },
  {
   "cell_type": "code",
   "execution_count": 28,
   "metadata": {},
   "outputs": [
    {
     "name": "stdout",
     "output_type": "stream",
     "text": [
      "LGBMRegressor Modeli Test Hatası 363.8712087611089\n",
      "XGBRegressor Modeli Test Hatası 355.46515176059927\n",
      "GradientBoostingRegressor Modeli Test Hatası 356.67983252079694\n",
      "RandomForestRegressor Modeli Test Hatası 337.36117134931794\n",
      "DecisionTreeRegressor Modeli Test Hatası 467.53532607388627\n",
      "MLPRegressor Modeli Test Hatası 454.55483957763175\n",
      "KNeighborsRegressor Modeli Test Hatası 426.6570764525201\n",
      "SVR Modeli Test Hatası 460.0032657244849\n"
     ]
    }
   ],
   "source": [
    "for i in models:\n",
    "    compML(df,\"Salary\",i)"
   ]
  },
  {
   "cell_type": "code",
   "execution_count": null,
   "metadata": {},
   "outputs": [],
   "source": []
  }
 ],
 "metadata": {
  "kernelspec": {
   "display_name": "Python 3",
   "language": "python",
   "name": "python3"
  },
  "language_info": {
   "codemirror_mode": {
    "name": "ipython",
    "version": 3
   },
   "file_extension": ".py",
   "mimetype": "text/x-python",
   "name": "python",
   "nbconvert_exporter": "python",
   "pygments_lexer": "ipython3",
   "version": "3.8.5"
  }
 },
 "nbformat": 4,
 "nbformat_minor": 4
}
