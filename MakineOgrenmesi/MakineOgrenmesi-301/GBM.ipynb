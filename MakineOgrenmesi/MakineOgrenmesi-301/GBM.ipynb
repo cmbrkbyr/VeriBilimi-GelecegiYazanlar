{
 "cells": [
  {
   "cell_type": "markdown",
   "metadata": {},
   "source": [
    "## Gradient Boosting Machines (GBM)"
   ]
  },
  {
   "cell_type": "code",
   "execution_count": 1,
   "metadata": {},
   "outputs": [],
   "source": [
    "import numpy as np\n",
    "import pandas as pd\n",
    "from sklearn.model_selection import train_test_split, GridSearchCV\n",
    "from sklearn.metrics import mean_squared_error, r2_score\n",
    "import matplotlib.pyplot as plt\n",
    "from sklearn.preprocessing import scale\n",
    "from sklearn.preprocessing import StandardScaler\n",
    "from sklearn import model_selection\n",
    "from sklearn.linear_model import LinearRegression\n",
    "from sklearn.tree import DecisionTreeRegressor\n",
    "from sklearn.neighbors import KNeighborsRegressor\n",
    "from sklearn.neural_network import MLPRegressor\n",
    "from sklearn.ensemble import RandomForestRegressor\n",
    "from sklearn.ensemble import GradientBoostingRegressor\n",
    "from sklearn import neighbors\n",
    "from sklearn.svm import SVR"
   ]
  },
  {
   "cell_type": "code",
   "execution_count": 2,
   "metadata": {},
   "outputs": [],
   "source": [
    "from warnings import filterwarnings\n",
    "filterwarnings('ignore')"
   ]
  },
  {
   "cell_type": "code",
   "execution_count": 3,
   "metadata": {},
   "outputs": [],
   "source": [
    "df = pd.read_csv(\"Hitters.csv\")\n",
    "df = df.dropna()\n",
    "dms = pd.get_dummies(df[['League','Division','NewLeague']])\n",
    "y = df[\"Salary\"]\n",
    "X_ = df.drop(['Salary','League','Division','NewLeague'],axis=1).astype('float64')\n",
    "X = pd.concat([X_,dms[['League_N','Division_W','NewLeague_N']]],axis=1)\n",
    "X_train,X_test,y_train,y_test = train_test_split(X,\n",
    "                                                y,\n",
    "                                                test_size=0.25,\n",
    "                                                random_state=42)"
   ]
  },
  {
   "cell_type": "markdown",
   "metadata": {},
   "source": [
    "### Model & Tahmin"
   ]
  },
  {
   "cell_type": "code",
   "execution_count": 4,
   "metadata": {},
   "outputs": [],
   "source": [
    "gbm_model = GradientBoostingRegressor().fit(X_train, y_train)"
   ]
  },
  {
   "cell_type": "code",
   "execution_count": 5,
   "metadata": {},
   "outputs": [
    {
     "data": {
      "text/plain": [
       "351.0515414408404"
      ]
     },
     "execution_count": 5,
     "metadata": {},
     "output_type": "execute_result"
    }
   ],
   "source": [
    "y_pred = gbm_model.predict(X_test)\n",
    "np.sqrt(mean_squared_error(y_test, y_pred))"
   ]
  },
  {
   "cell_type": "markdown",
   "metadata": {},
   "source": [
    "### Model Tuning"
   ]
  },
  {
   "cell_type": "code",
   "execution_count": 6,
   "metadata": {},
   "outputs": [],
   "source": [
    "gbm_params = {\"learning_rate\": [0.001,0.1,0.01],\n",
    "             \"max_depth\":[3,5,8],\n",
    "             \"n_estimators\":[100,200,500],\n",
    "              \"subsample\": [1,0.5,0.8],\n",
    "             \"loss\":[\"ls\",\"lad\",\"quantile\"]}"
   ]
  },
  {
   "cell_type": "code",
   "execution_count": 7,
   "metadata": {},
   "outputs": [],
   "source": [
    "gbm_model = GradientBoostingRegressor().fit(X_train, y_train)"
   ]
  },
  {
   "cell_type": "code",
   "execution_count": 8,
   "metadata": {},
   "outputs": [
    {
     "name": "stdout",
     "output_type": "stream",
     "text": [
      "Fitting 10 folds for each of 243 candidates, totalling 2430 fits\n"
     ]
    },
    {
     "name": "stderr",
     "output_type": "stream",
     "text": [
      "[Parallel(n_jobs=-1)]: Using backend LokyBackend with 8 concurrent workers.\n",
      "[Parallel(n_jobs=-1)]: Done  25 tasks      | elapsed:    3.0s\n",
      "[Parallel(n_jobs=-1)]: Done 146 tasks      | elapsed:    7.2s\n",
      "[Parallel(n_jobs=-1)]: Done 349 tasks      | elapsed:   21.6s\n",
      "[Parallel(n_jobs=-1)]: Done 632 tasks      | elapsed:   52.5s\n",
      "[Parallel(n_jobs=-1)]: Done 997 tasks      | elapsed:  1.4min\n",
      "[Parallel(n_jobs=-1)]: Done 1442 tasks      | elapsed:  2.2min\n",
      "[Parallel(n_jobs=-1)]: Done 1969 tasks      | elapsed:  3.0min\n",
      "[Parallel(n_jobs=-1)]: Done 2430 out of 2430 | elapsed:  4.0min finished\n"
     ]
    }
   ],
   "source": [
    "gbm_cv_model = GridSearchCV(gbm_model,\n",
    "                            gbm_params,\n",
    "                            cv= 10,\n",
    "                            n_jobs=-1,\n",
    "                            verbose = 2).fit(X_train, y_train)"
   ]
  },
  {
   "cell_type": "code",
   "execution_count": 9,
   "metadata": {},
   "outputs": [
    {
     "data": {
      "text/plain": [
       "{'learning_rate': 0.1,\n",
       " 'loss': 'lad',\n",
       " 'max_depth': 3,\n",
       " 'n_estimators': 100,\n",
       " 'subsample': 0.8}"
      ]
     },
     "execution_count": 9,
     "metadata": {},
     "output_type": "execute_result"
    }
   ],
   "source": [
    "gbm_cv_model.best_params_"
   ]
  },
  {
   "cell_type": "code",
   "execution_count": 10,
   "metadata": {},
   "outputs": [],
   "source": [
    "gbm_tuned = gbm_model = GradientBoostingRegressor(learning_rate=0.1,\n",
    "                                                 loss = \"lad\",\n",
    "                                                 max_depth = 3,\n",
    "                                                 n_estimators=200,\n",
    "                                                 subsample=1).fit(X_train, y_train)"
   ]
  },
  {
   "cell_type": "code",
   "execution_count": 12,
   "metadata": {},
   "outputs": [
    {
     "data": {
      "text/plain": [
       "340.7881849325363"
      ]
     },
     "execution_count": 12,
     "metadata": {},
     "output_type": "execute_result"
    }
   ],
   "source": [
    "y_pred=gbm_tuned.predict(X_test)\n",
    "np.sqrt(mean_squared_error(y_test,y_pred))"
   ]
  },
  {
   "cell_type": "code",
   "execution_count": 13,
   "metadata": {},
   "outputs": [],
   "source": [
    "#Degişken Önem Düzeyi"
   ]
  },
  {
   "cell_type": "code",
   "execution_count": 15,
   "metadata": {},
   "outputs": [
    {
     "data": {
      "image/png": "[encoded data removed]",
      "text/plain": [
       "<Figure size 432x288 with 1 Axes>"
      ]
     },
     "metadata": {
      "needs_background": "light"
     },
     "output_type": "display_data"
    }
   ],
   "source": [
    "Importance = pd.DataFrame({'Importance':gbm_tuned.feature_importances_*100},\n",
    "                         index = X_train.columns)\n",
    "\n",
    "Importance.sort_values(by= 'Importance',\n",
    "                      axis = 0,\n",
    "                      ascending = True).plot(kind= 'barh',\n",
    "                                             color = 'r',)\n",
    "plt.xlabel('Variable Importance')\n",
    "plt.gca().legend_=None\n"
   ]
  },
  {
   "cell_type": "code",
   "execution_count": null,
   "metadata": {},
   "outputs": [],
   "source": []
  }
 ],
 "metadata": {
  "kernelspec": {
   "display_name": "Python 3",
   "language": "python",
   "name": "python3"
  },
  "language_info": {
   "codemirror_mode": {
    "name": "ipython",
    "version": 3
   },
   "file_extension": ".py",
   "mimetype": "text/x-python",
   "name": "python",
   "nbconvert_exporter": "python",
   "pygments_lexer": "ipython3",
   "version": "3.8.5"
  }
 },
 "nbformat": 4,
 "nbformat_minor": 4
}
