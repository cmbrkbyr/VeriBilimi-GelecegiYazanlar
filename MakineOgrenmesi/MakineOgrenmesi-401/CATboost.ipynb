{
 "cells": [
  {
   "cell_type": "code",
   "execution_count": 12,
   "metadata": {},
   "outputs": [],
   "source": [
    "import numpy as np\n",
    "import pandas as pd\n",
    "import statsmodels.api as sm\n",
    "import seaborn as sns\n",
    "import matplotlib.pyplot as plt\n",
    "from sklearn.preprocessing import scale\n",
    "from sklearn.preprocessing import StandardScaler\n",
    "from sklearn.model_selection import train_test_split, GridSearchCV, cross_val_score\n",
    "from sklearn.metrics import mean_squared_error, r2_score, accuracy_score, confusion_matrix,roc_curve,roc_auc_score,classification_report\n",
    "from sklearn.linear_model import LogisticRegression\n",
    "from sklearn.neighbors import KNeighborsClassifier\n",
    "from sklearn.svm import SVC\n",
    "from sklearn.neural_network import MLPClassifier\n",
    "from sklearn.tree import DecisionTreeClassifier\n",
    "from sklearn.ensemble import RandomForestClassifier\n",
    "from sklearn.ensemble import GradientBoostingClassifier\n",
    "from lightgbm import LGBMClassifier\n",
    "from catboost import CatBoostClassifier"
   ]
  },
  {
   "cell_type": "code",
   "execution_count": 13,
   "metadata": {},
   "outputs": [],
   "source": [
    "import warnings\n",
    "warnings.filterwarnings(\"ignore\",category=DeprecationWarning)\n",
    "warnings.filterwarnings(\"ignore\",category=FutureWarning)"
   ]
  },
  {
   "cell_type": "code",
   "execution_count": 14,
   "metadata": {},
   "outputs": [],
   "source": [
    "df = pd.read_csv(\"./diabetes.csv\")"
   ]
  },
  {
   "cell_type": "markdown",
   "metadata": {},
   "source": [
    "## CATBOOST"
   ]
  },
  {
   "cell_type": "code",
   "execution_count": 15,
   "metadata": {},
   "outputs": [
    {
     "data": {
      "text/html": [
       "<div>\n",
       "<style scoped>\n",
       "    .dataframe tbody tr th:only-of-type {\n",
       "        vertical-align: middle;\n",
       "    }\n",
       "\n",
       "    .dataframe tbody tr th {\n",
       "        vertical-align: top;\n",
       "    }\n",
       "\n",
       "    .dataframe thead th {\n",
       "        text-align: right;\n",
       "    }\n",
       "</style>\n",
       "<table border=\"1\" class=\"dataframe\">\n",
       "  <thead>\n",
       "    <tr style=\"text-align: right;\">\n",
       "      <th></th>\n",
       "      <th>Pregnancies</th>\n",
       "      <th>Glucose</th>\n",
       "      <th>BloodPressure</th>\n",
       "      <th>SkinThickness</th>\n",
       "      <th>Insulin</th>\n",
       "      <th>BMI</th>\n",
       "      <th>DiabetesPedigreeFunction</th>\n",
       "      <th>Age</th>\n",
       "      <th>Outcome</th>\n",
       "    </tr>\n",
       "  </thead>\n",
       "  <tbody>\n",
       "    <tr>\n",
       "      <th>0</th>\n",
       "      <td>6</td>\n",
       "      <td>148</td>\n",
       "      <td>72</td>\n",
       "      <td>35</td>\n",
       "      <td>0</td>\n",
       "      <td>33.6</td>\n",
       "      <td>0.627</td>\n",
       "      <td>50</td>\n",
       "      <td>1</td>\n",
       "    </tr>\n",
       "    <tr>\n",
       "      <th>1</th>\n",
       "      <td>1</td>\n",
       "      <td>85</td>\n",
       "      <td>66</td>\n",
       "      <td>29</td>\n",
       "      <td>0</td>\n",
       "      <td>26.6</td>\n",
       "      <td>0.351</td>\n",
       "      <td>31</td>\n",
       "      <td>0</td>\n",
       "    </tr>\n",
       "    <tr>\n",
       "      <th>2</th>\n",
       "      <td>8</td>\n",
       "      <td>183</td>\n",
       "      <td>64</td>\n",
       "      <td>0</td>\n",
       "      <td>0</td>\n",
       "      <td>23.3</td>\n",
       "      <td>0.672</td>\n",
       "      <td>32</td>\n",
       "      <td>1</td>\n",
       "    </tr>\n",
       "    <tr>\n",
       "      <th>3</th>\n",
       "      <td>1</td>\n",
       "      <td>89</td>\n",
       "      <td>66</td>\n",
       "      <td>23</td>\n",
       "      <td>94</td>\n",
       "      <td>28.1</td>\n",
       "      <td>0.167</td>\n",
       "      <td>21</td>\n",
       "      <td>0</td>\n",
       "    </tr>\n",
       "    <tr>\n",
       "      <th>4</th>\n",
       "      <td>0</td>\n",
       "      <td>137</td>\n",
       "      <td>40</td>\n",
       "      <td>35</td>\n",
       "      <td>168</td>\n",
       "      <td>43.1</td>\n",
       "      <td>2.288</td>\n",
       "      <td>33</td>\n",
       "      <td>1</td>\n",
       "    </tr>\n",
       "  </tbody>\n",
       "</table>\n",
       "</div>"
      ],
      "text/plain": [
       "   Pregnancies  Glucose  BloodPressure  ...  DiabetesPedigreeFunction  Age  Outcome\n",
       "0            6      148             72  ...                     0.627   50        1\n",
       "1            1       85             66  ...                     0.351   31        0\n",
       "2            8      183             64  ...                     0.672   32        1\n",
       "3            1       89             66  ...                     0.167   21        0\n",
       "4            0      137             40  ...                     2.288   33        1\n",
       "\n",
       "[5 rows x 9 columns]"
      ]
     },
     "execution_count": 15,
     "metadata": {},
     "output_type": "execute_result"
    }
   ],
   "source": [
    "df.head()"
   ]
  },
  {
   "cell_type": "code",
   "execution_count": 16,
   "metadata": {},
   "outputs": [],
   "source": [
    "y = df[\"Outcome\"]\n",
    "X = df.drop(['Outcome'], axis=1)\n",
    "X_train, X_test, y_train, y_test = train_test_split(X, y,\n",
    "                                                   test_size=0.30,\n",
    "                                                   random_state=42)"
   ]
  },
  {
   "cell_type": "code",
   "execution_count": 17,
   "metadata": {},
   "outputs": [],
   "source": [
    "catb_model=CatBoostClassifier().fit(X_train,y_train,verbose=False)"
   ]
  },
  {
   "cell_type": "code",
   "execution_count": 18,
   "metadata": {},
   "outputs": [],
   "source": [
    "y_pred=catb_model.predict(X_test)"
   ]
  },
  {
   "cell_type": "code",
   "execution_count": 19,
   "metadata": {},
   "outputs": [
    {
     "data": {
      "text/plain": [
       "0.7402597402597403"
      ]
     },
     "execution_count": 19,
     "metadata": {},
     "output_type": "execute_result"
    }
   ],
   "source": [
    "accuracy_score(y_test, y_pred)"
   ]
  },
  {
   "cell_type": "code",
   "execution_count": 20,
   "metadata": {},
   "outputs": [],
   "source": [
    "catb_params = {\"iterations\":[200,500,1000],\n",
    "                \"learning_rate\":[0.1,0.01,0.001],\n",
    "                \"depth\":[4,5,8]}"
   ]
  },
  {
   "cell_type": "code",
   "execution_count": 21,
   "metadata": {},
   "outputs": [
    {
     "name": "stdout",
     "output_type": "stream",
     "text": [
      "Fitting 5 folds for each of 27 candidates, totalling 135 fits\n"
     ]
    },
    {
     "name": "stderr",
     "output_type": "stream",
     "text": [
      "[Parallel(n_jobs=-1)]: Using backend LokyBackend with 8 concurrent workers.\n",
      "[Parallel(n_jobs=-1)]: Done  25 tasks      | elapsed:    9.6s\n",
      "[Parallel(n_jobs=-1)]: Done 135 out of 135 | elapsed:  1.5min finished\n"
     ]
    }
   ],
   "source": [
    "catb_cv_model=GridSearchCV(catb_model,catb_params,cv=5,n_jobs=-1,verbose=2).fit(X_train,y_train,verbose=False)"
   ]
  },
  {
   "cell_type": "code",
   "execution_count": 22,
   "metadata": {},
   "outputs": [
    {
     "data": {
      "text/plain": [
       "{'depth': 8, 'iterations': 200, 'learning_rate': 0.01}"
      ]
     },
     "execution_count": 22,
     "metadata": {},
     "output_type": "execute_result"
    }
   ],
   "source": [
    "catb_cv_model.best_params_"
   ]
  },
  {
   "cell_type": "code",
   "execution_count": 23,
   "metadata": {
    "collapsed": true,
    "jupyter": {
     "outputs_hidden": true
    }
   },
   "outputs": [
    {
     "name": "stdout",
     "output_type": "stream",
     "text": [
      "0:\tlearn: 0.6863412\ttotal: 4.69ms\tremaining: 933ms\n",
      "1:\tlearn: 0.6811322\ttotal: 7.84ms\tremaining: 776ms\n",
      "2:\tlearn: 0.6753199\ttotal: 10.9ms\tremaining: 719ms\n",
      "3:\tlearn: 0.6697717\ttotal: 14.2ms\tremaining: 695ms\n",
      "4:\tlearn: 0.6642090\ttotal: 18.9ms\tremaining: 738ms\n",
      "5:\tlearn: 0.6577038\ttotal: 23.2ms\tremaining: 749ms\n",
      "6:\tlearn: 0.6522290\ttotal: 29.5ms\tremaining: 813ms\n",
      "7:\tlearn: 0.6466015\ttotal: 33.6ms\tremaining: 806ms\n",
      "8:\tlearn: 0.6408068\ttotal: 38.1ms\tremaining: 809ms\n",
      "9:\tlearn: 0.6358218\ttotal: 41.7ms\tremaining: 792ms\n",
      "10:\tlearn: 0.6300444\ttotal: 45.2ms\tremaining: 776ms\n",
      "11:\tlearn: 0.6240992\ttotal: 60ms\tremaining: 940ms\n",
      "12:\tlearn: 0.6196618\ttotal: 63.5ms\tremaining: 913ms\n",
      "13:\tlearn: 0.6149237\ttotal: 67.1ms\tremaining: 892ms\n",
      "14:\tlearn: 0.6093146\ttotal: 70ms\tremaining: 864ms\n",
      "15:\tlearn: 0.6047282\ttotal: 72.9ms\tremaining: 838ms\n",
      "16:\tlearn: 0.6013242\ttotal: 75.6ms\tremaining: 814ms\n",
      "17:\tlearn: 0.5958624\ttotal: 79.3ms\tremaining: 802ms\n",
      "18:\tlearn: 0.5903733\ttotal: 82.5ms\tremaining: 786ms\n",
      "19:\tlearn: 0.5866505\ttotal: 85.3ms\tremaining: 768ms\n",
      "20:\tlearn: 0.5831865\ttotal: 88.2ms\tremaining: 752ms\n",
      "21:\tlearn: 0.5787839\ttotal: 91.1ms\tremaining: 737ms\n",
      "22:\tlearn: 0.5749453\ttotal: 94.5ms\tremaining: 727ms\n",
      "23:\tlearn: 0.5703621\ttotal: 97.4ms\tremaining: 714ms\n",
      "24:\tlearn: 0.5662773\ttotal: 100ms\tremaining: 701ms\n",
      "25:\tlearn: 0.5629069\ttotal: 103ms\tremaining: 691ms\n",
      "26:\tlearn: 0.5589454\ttotal: 106ms\tremaining: 680ms\n",
      "27:\tlearn: 0.5544253\ttotal: 109ms\tremaining: 671ms\n",
      "28:\tlearn: 0.5504193\ttotal: 112ms\tremaining: 660ms\n",
      "29:\tlearn: 0.5470888\ttotal: 115ms\tremaining: 651ms\n",
      "30:\tlearn: 0.5441572\ttotal: 118ms\tremaining: 641ms\n",
      "31:\tlearn: 0.5396568\ttotal: 120ms\tremaining: 632ms\n",
      "32:\tlearn: 0.5356520\ttotal: 123ms\tremaining: 624ms\n",
      "33:\tlearn: 0.5315662\ttotal: 126ms\tremaining: 617ms\n",
      "34:\tlearn: 0.5280107\ttotal: 129ms\tremaining: 609ms\n",
      "35:\tlearn: 0.5248634\ttotal: 132ms\tremaining: 601ms\n",
      "36:\tlearn: 0.5224134\ttotal: 135ms\tremaining: 594ms\n",
      "37:\tlearn: 0.5198514\ttotal: 138ms\tremaining: 587ms\n",
      "38:\tlearn: 0.5167668\ttotal: 141ms\tremaining: 582ms\n",
      "39:\tlearn: 0.5139063\ttotal: 144ms\tremaining: 575ms\n",
      "40:\tlearn: 0.5101721\ttotal: 147ms\tremaining: 568ms\n",
      "41:\tlearn: 0.5066326\ttotal: 149ms\tremaining: 562ms\n",
      "42:\tlearn: 0.5033936\ttotal: 152ms\tremaining: 556ms\n",
      "43:\tlearn: 0.5006117\ttotal: 155ms\tremaining: 550ms\n",
      "44:\tlearn: 0.4980917\ttotal: 158ms\tremaining: 544ms\n",
      "45:\tlearn: 0.4959463\ttotal: 161ms\tremaining: 538ms\n",
      "46:\tlearn: 0.4934198\ttotal: 164ms\tremaining: 533ms\n",
      "47:\tlearn: 0.4906410\ttotal: 166ms\tremaining: 527ms\n",
      "48:\tlearn: 0.4878576\ttotal: 169ms\tremaining: 522ms\n",
      "49:\tlearn: 0.4850977\ttotal: 172ms\tremaining: 517ms\n",
      "50:\tlearn: 0.4826157\ttotal: 176ms\tremaining: 513ms\n",
      "51:\tlearn: 0.4798530\ttotal: 179ms\tremaining: 509ms\n",
      "52:\tlearn: 0.4776349\ttotal: 182ms\tremaining: 505ms\n",
      "53:\tlearn: 0.4754652\ttotal: 185ms\tremaining: 501ms\n",
      "54:\tlearn: 0.4733755\ttotal: 189ms\tremaining: 497ms\n",
      "55:\tlearn: 0.4706337\ttotal: 192ms\tremaining: 493ms\n",
      "56:\tlearn: 0.4677619\ttotal: 195ms\tremaining: 490ms\n",
      "57:\tlearn: 0.4657008\ttotal: 198ms\tremaining: 486ms\n",
      "58:\tlearn: 0.4637682\ttotal: 202ms\tremaining: 483ms\n",
      "59:\tlearn: 0.4615518\ttotal: 205ms\tremaining: 479ms\n",
      "60:\tlearn: 0.4600032\ttotal: 208ms\tremaining: 474ms\n",
      "61:\tlearn: 0.4584260\ttotal: 209ms\tremaining: 465ms\n",
      "62:\tlearn: 0.4567343\ttotal: 212ms\tremaining: 460ms\n",
      "63:\tlearn: 0.4541223\ttotal: 215ms\tremaining: 457ms\n",
      "64:\tlearn: 0.4530108\ttotal: 216ms\tremaining: 449ms\n",
      "65:\tlearn: 0.4512377\ttotal: 219ms\tremaining: 445ms\n",
      "66:\tlearn: 0.4487025\ttotal: 222ms\tremaining: 441ms\n",
      "67:\tlearn: 0.4468152\ttotal: 225ms\tremaining: 436ms\n",
      "68:\tlearn: 0.4449902\ttotal: 228ms\tremaining: 432ms\n",
      "69:\tlearn: 0.4426412\ttotal: 231ms\tremaining: 429ms\n",
      "70:\tlearn: 0.4401906\ttotal: 234ms\tremaining: 425ms\n",
      "71:\tlearn: 0.4380992\ttotal: 237ms\tremaining: 421ms\n",
      "72:\tlearn: 0.4367450\ttotal: 239ms\tremaining: 416ms\n",
      "73:\tlearn: 0.4353520\ttotal: 242ms\tremaining: 412ms\n",
      "74:\tlearn: 0.4340243\ttotal: 245ms\tremaining: 409ms\n",
      "75:\tlearn: 0.4315947\ttotal: 248ms\tremaining: 405ms\n",
      "76:\tlearn: 0.4298990\ttotal: 251ms\tremaining: 401ms\n",
      "77:\tlearn: 0.4285587\ttotal: 254ms\tremaining: 397ms\n",
      "78:\tlearn: 0.4266109\ttotal: 256ms\tremaining: 393ms\n",
      "79:\tlearn: 0.4244339\ttotal: 259ms\tremaining: 389ms\n",
      "80:\tlearn: 0.4228679\ttotal: 262ms\tremaining: 385ms\n",
      "81:\tlearn: 0.4214531\ttotal: 265ms\tremaining: 382ms\n",
      "82:\tlearn: 0.4200925\ttotal: 268ms\tremaining: 378ms\n",
      "83:\tlearn: 0.4184640\ttotal: 271ms\tremaining: 374ms\n",
      "84:\tlearn: 0.4168303\ttotal: 274ms\tremaining: 371ms\n",
      "85:\tlearn: 0.4156724\ttotal: 277ms\tremaining: 367ms\n",
      "86:\tlearn: 0.4140974\ttotal: 281ms\tremaining: 364ms\n",
      "87:\tlearn: 0.4124542\ttotal: 284ms\tremaining: 361ms\n",
      "88:\tlearn: 0.4107650\ttotal: 286ms\tremaining: 357ms\n",
      "89:\tlearn: 0.4091247\ttotal: 289ms\tremaining: 353ms\n",
      "90:\tlearn: 0.4075743\ttotal: 292ms\tremaining: 350ms\n",
      "91:\tlearn: 0.4062728\ttotal: 296ms\tremaining: 347ms\n",
      "92:\tlearn: 0.4044987\ttotal: 298ms\tremaining: 343ms\n",
      "93:\tlearn: 0.4030509\ttotal: 301ms\tremaining: 340ms\n",
      "94:\tlearn: 0.4012366\ttotal: 304ms\tremaining: 336ms\n",
      "95:\tlearn: 0.3995010\ttotal: 307ms\tremaining: 333ms\n",
      "96:\tlearn: 0.3983567\ttotal: 310ms\tremaining: 330ms\n",
      "97:\tlearn: 0.3970163\ttotal: 313ms\tremaining: 326ms\n",
      "98:\tlearn: 0.3955954\ttotal: 316ms\tremaining: 322ms\n",
      "99:\tlearn: 0.3946458\ttotal: 319ms\tremaining: 319ms\n",
      "100:\tlearn: 0.3932682\ttotal: 322ms\tremaining: 316ms\n",
      "101:\tlearn: 0.3921086\ttotal: 325ms\tremaining: 312ms\n",
      "102:\tlearn: 0.3912041\ttotal: 328ms\tremaining: 309ms\n",
      "103:\tlearn: 0.3896085\ttotal: 330ms\tremaining: 305ms\n",
      "104:\tlearn: 0.3881310\ttotal: 333ms\tremaining: 301ms\n",
      "105:\tlearn: 0.3867841\ttotal: 336ms\tremaining: 298ms\n",
      "106:\tlearn: 0.3855611\ttotal: 339ms\tremaining: 295ms\n",
      "107:\tlearn: 0.3841345\ttotal: 342ms\tremaining: 291ms\n",
      "108:\tlearn: 0.3829608\ttotal: 345ms\tremaining: 288ms\n",
      "109:\tlearn: 0.3819127\ttotal: 348ms\tremaining: 285ms\n",
      "110:\tlearn: 0.3810000\ttotal: 351ms\tremaining: 281ms\n",
      "111:\tlearn: 0.3790356\ttotal: 354ms\tremaining: 278ms\n",
      "112:\tlearn: 0.3774673\ttotal: 357ms\tremaining: 275ms\n",
      "113:\tlearn: 0.3762712\ttotal: 360ms\tremaining: 272ms\n",
      "114:\tlearn: 0.3750760\ttotal: 363ms\tremaining: 268ms\n",
      "115:\tlearn: 0.3735547\ttotal: 366ms\tremaining: 265ms\n",
      "116:\tlearn: 0.3728015\ttotal: 369ms\tremaining: 262ms\n",
      "117:\tlearn: 0.3714192\ttotal: 372ms\tremaining: 258ms\n",
      "118:\tlearn: 0.3705935\ttotal: 375ms\tremaining: 255ms\n",
      "119:\tlearn: 0.3694736\ttotal: 377ms\tremaining: 252ms\n",
      "120:\tlearn: 0.3687791\ttotal: 380ms\tremaining: 248ms\n",
      "121:\tlearn: 0.3679782\ttotal: 383ms\tremaining: 245ms\n",
      "122:\tlearn: 0.3666547\ttotal: 386ms\tremaining: 242ms\n",
      "123:\tlearn: 0.3655144\ttotal: 389ms\tremaining: 238ms\n",
      "124:\tlearn: 0.3643546\ttotal: 392ms\tremaining: 235ms\n",
      "125:\tlearn: 0.3636557\ttotal: 395ms\tremaining: 232ms\n",
      "126:\tlearn: 0.3625550\ttotal: 398ms\tremaining: 229ms\n",
      "127:\tlearn: 0.3610147\ttotal: 401ms\tremaining: 226ms\n",
      "128:\tlearn: 0.3596348\ttotal: 404ms\tremaining: 222ms\n",
      "129:\tlearn: 0.3584074\ttotal: 407ms\tremaining: 219ms\n",
      "130:\tlearn: 0.3569602\ttotal: 409ms\tremaining: 216ms\n",
      "131:\tlearn: 0.3558913\ttotal: 412ms\tremaining: 212ms\n",
      "132:\tlearn: 0.3548689\ttotal: 415ms\tremaining: 209ms\n",
      "133:\tlearn: 0.3533837\ttotal: 418ms\tremaining: 206ms\n",
      "134:\tlearn: 0.3524619\ttotal: 421ms\tremaining: 202ms\n",
      "135:\tlearn: 0.3518338\ttotal: 423ms\tremaining: 199ms\n",
      "136:\tlearn: 0.3505366\ttotal: 426ms\tremaining: 196ms\n",
      "137:\tlearn: 0.3497723\ttotal: 430ms\tremaining: 193ms\n",
      "138:\tlearn: 0.3489030\ttotal: 433ms\tremaining: 190ms\n",
      "139:\tlearn: 0.3482652\ttotal: 436ms\tremaining: 187ms\n",
      "140:\tlearn: 0.3471165\ttotal: 440ms\tremaining: 184ms\n",
      "141:\tlearn: 0.3458630\ttotal: 443ms\tremaining: 181ms\n",
      "142:\tlearn: 0.3445867\ttotal: 446ms\tremaining: 178ms\n",
      "143:\tlearn: 0.3436773\ttotal: 448ms\tremaining: 174ms\n",
      "144:\tlearn: 0.3426979\ttotal: 451ms\tremaining: 171ms\n",
      "145:\tlearn: 0.3417627\ttotal: 454ms\tremaining: 168ms\n",
      "146:\tlearn: 0.3407937\ttotal: 457ms\tremaining: 165ms\n",
      "147:\tlearn: 0.3398191\ttotal: 460ms\tremaining: 162ms\n",
      "148:\tlearn: 0.3390524\ttotal: 463ms\tremaining: 158ms\n",
      "149:\tlearn: 0.3381671\ttotal: 465ms\tremaining: 155ms\n",
      "150:\tlearn: 0.3375138\ttotal: 468ms\tremaining: 152ms\n",
      "151:\tlearn: 0.3365898\ttotal: 471ms\tremaining: 149ms\n",
      "152:\tlearn: 0.3358887\ttotal: 474ms\tremaining: 146ms\n",
      "153:\tlearn: 0.3346492\ttotal: 477ms\tremaining: 142ms\n",
      "154:\tlearn: 0.3336018\ttotal: 480ms\tremaining: 139ms\n",
      "155:\tlearn: 0.3330832\ttotal: 483ms\tremaining: 136ms\n",
      "156:\tlearn: 0.3324238\ttotal: 485ms\tremaining: 133ms\n",
      "157:\tlearn: 0.3312569\ttotal: 488ms\tremaining: 130ms\n",
      "158:\tlearn: 0.3299834\ttotal: 491ms\tremaining: 127ms\n",
      "159:\tlearn: 0.3286908\ttotal: 494ms\tremaining: 123ms\n",
      "160:\tlearn: 0.3276277\ttotal: 497ms\tremaining: 120ms\n",
      "161:\tlearn: 0.3267134\ttotal: 499ms\tremaining: 117ms\n",
      "162:\tlearn: 0.3259380\ttotal: 502ms\tremaining: 114ms\n",
      "163:\tlearn: 0.3249529\ttotal: 505ms\tremaining: 111ms\n",
      "164:\tlearn: 0.3241876\ttotal: 508ms\tremaining: 108ms\n",
      "165:\tlearn: 0.3237797\ttotal: 511ms\tremaining: 105ms\n",
      "166:\tlearn: 0.3228611\ttotal: 514ms\tremaining: 102ms\n",
      "167:\tlearn: 0.3218481\ttotal: 517ms\tremaining: 98.5ms\n",
      "168:\tlearn: 0.3209571\ttotal: 521ms\tremaining: 95.5ms\n",
      "169:\tlearn: 0.3200492\ttotal: 524ms\tremaining: 92.4ms\n",
      "170:\tlearn: 0.3189373\ttotal: 527ms\tremaining: 89.3ms\n",
      "171:\tlearn: 0.3179033\ttotal: 530ms\tremaining: 86.2ms\n",
      "172:\tlearn: 0.3172849\ttotal: 533ms\tremaining: 83.1ms\n",
      "173:\tlearn: 0.3166655\ttotal: 536ms\tremaining: 80ms\n",
      "174:\tlearn: 0.3157718\ttotal: 538ms\tremaining: 76.9ms\n",
      "175:\tlearn: 0.3150160\ttotal: 541ms\tremaining: 73.8ms\n",
      "176:\tlearn: 0.3142830\ttotal: 544ms\tremaining: 70.7ms\n",
      "177:\tlearn: 0.3138662\ttotal: 547ms\tremaining: 67.6ms\n",
      "178:\tlearn: 0.3133629\ttotal: 550ms\tremaining: 64.5ms\n",
      "179:\tlearn: 0.3125061\ttotal: 553ms\tremaining: 61.5ms\n",
      "180:\tlearn: 0.3115252\ttotal: 556ms\tremaining: 58.4ms\n",
      "181:\tlearn: 0.3110208\ttotal: 559ms\tremaining: 55.3ms\n",
      "182:\tlearn: 0.3105547\ttotal: 562ms\tremaining: 52.2ms\n",
      "183:\tlearn: 0.3094534\ttotal: 565ms\tremaining: 49.2ms\n",
      "184:\tlearn: 0.3087456\ttotal: 568ms\tremaining: 46.1ms\n",
      "185:\tlearn: 0.3079835\ttotal: 571ms\tremaining: 43ms\n",
      "186:\tlearn: 0.3072245\ttotal: 574ms\tremaining: 39.9ms\n",
      "187:\tlearn: 0.3061540\ttotal: 577ms\tremaining: 36.8ms\n",
      "188:\tlearn: 0.3054721\ttotal: 580ms\tremaining: 33.8ms\n",
      "189:\tlearn: 0.3048467\ttotal: 583ms\tremaining: 30.7ms\n",
      "190:\tlearn: 0.3042662\ttotal: 586ms\tremaining: 27.6ms\n",
      "191:\tlearn: 0.3037025\ttotal: 589ms\tremaining: 24.5ms\n",
      "192:\tlearn: 0.3028928\ttotal: 591ms\tremaining: 21.4ms\n",
      "193:\tlearn: 0.3020155\ttotal: 594ms\tremaining: 18.4ms\n",
      "194:\tlearn: 0.3010007\ttotal: 597ms\tremaining: 15.3ms\n",
      "195:\tlearn: 0.3002253\ttotal: 600ms\tremaining: 12.2ms\n",
      "196:\tlearn: 0.2999682\ttotal: 602ms\tremaining: 9.16ms\n",
      "197:\tlearn: 0.2994228\ttotal: 604ms\tremaining: 6.1ms\n",
      "198:\tlearn: 0.2986712\ttotal: 607ms\tremaining: 3.05ms\n",
      "199:\tlearn: 0.2980459\ttotal: 610ms\tremaining: 0us\n"
     ]
    }
   ],
   "source": [
    "catb_tuned=CatBoostClassifier(depth=8,iterations=200,learning_rate=0.01).fit(X_train,y_train)"
   ]
  },
  {
   "cell_type": "code",
   "execution_count": 24,
   "metadata": {},
   "outputs": [],
   "source": [
    "y_pred = catb_tuned.predict(X_test)"
   ]
  },
  {
   "cell_type": "code",
   "execution_count": 25,
   "metadata": {},
   "outputs": [
    {
     "data": {
      "text/plain": [
       "0.7532467532467533"
      ]
     },
     "execution_count": 25,
     "metadata": {},
     "output_type": "execute_result"
    }
   ],
   "source": [
    "accuracy_score(y_test, y_pred)"
   ]
  },
  {
   "cell_type": "code",
   "execution_count": 26,
   "metadata": {},
   "outputs": [
    {
     "data": {
      "image/png": "[encoded data removed]",
      "text/plain": [
       "<Figure size 432x288 with 1 Axes>"
      ]
     },
     "metadata": {
      "needs_background": "light"
     },
     "output_type": "display_data"
    }
   ],
   "source": [
    "feature_imp = pd.Series(catb_tuned.feature_importances_,\n",
    "                       index=X_train.columns).sort_values(ascending=False)\n",
    "\n",
    "sns.barplot(x=feature_imp, y=feature_imp.index)\n",
    "plt.xlabel('Degisken onem Skorları')\n",
    "plt.ylabel('Degiskenler')\n",
    "plt.title(\"Degisken önem düzeyleri\")\n",
    "plt.show()"
   ]
  },
  {
   "cell_type": "code",
   "execution_count": null,
   "metadata": {},
   "outputs": [],
   "source": []
  }
 ],
 "metadata": {
  "kernelspec": {
   "display_name": "Python 3",
   "language": "python",
   "name": "python3"
  },
  "language_info": {
   "codemirror_mode": {
    "name": "ipython",
    "version": 3
   },
   "file_extension": ".py",
   "mimetype": "text/x-python",
   "name": "python",
   "nbconvert_exporter": "python",
   "pygments_lexer": "ipython3",
   "version": "3.8.5"
  }
 },
 "nbformat": 4,
 "nbformat_minor": 4
}
